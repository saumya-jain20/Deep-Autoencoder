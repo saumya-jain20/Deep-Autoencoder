{
  "cells": [
    {
      "cell_type": "markdown",
      "metadata": {
        "id": "9-ruSmzdV389"
      },
      "source": [
        "# **Botnet Detection in IOT devices using an Autoencoder**"
      ]
    },
    {
      "cell_type": "code",
      "execution_count": null,
      "metadata": {
        "colab": {
          "base_uri": "https://localhost:8080/"
        },
        "id": "JMAcgbND0y0z",
        "outputId": "c1f6d1f5-fb49-4b89-d54b-d95e3e348346"
      },
      "outputs": [
        {
          "name": "stdout",
          "output_type": "stream",
          "text": [
            "  adding: content/ae_model-DanminiDoorbell/ (stored 0%)\n",
            "  adding: content/ae_model-DanminiDoorbell/keras_metadata.pb (deflated 93%)\n",
            "  adding: content/ae_model-DanminiDoorbell/saved_model.pb (deflated 90%)\n",
            "  adding: content/ae_model-DanminiDoorbell/assets/ (stored 0%)\n",
            "  adding: content/ae_model-DanminiDoorbell/variables/ (stored 0%)\n",
            "  adding: content/ae_model-DanminiDoorbell/variables/variables.index (deflated 69%)\n",
            "  adding: content/ae_model-DanminiDoorbell/variables/variables.data-00000-of-00001 (deflated 19%)\n"
          ]
        }
      ],
      "source": [
        "!zip -r /content/file.zip /content/ae_model-DanminiDoorbell"
      ]
    },
    {
      "cell_type": "code",
      "execution_count": null,
      "metadata": {
        "colab": {
          "base_uri": "https://localhost:8080/",
          "height": 17
        },
        "id": "32E_wjfP1LhY",
        "outputId": "6ab731f5-f450-454c-8d65-ea6e376ee648"
      },
      "outputs": [
        {
          "data": {
            "application/javascript": [
              "\n",
              "    async function download(id, filename, size) {\n",
              "      if (!google.colab.kernel.accessAllowed) {\n",
              "        return;\n",
              "      }\n",
              "      const div = document.createElement('div');\n",
              "      const label = document.createElement('label');\n",
              "      label.textContent = `Downloading \"${filename}\": `;\n",
              "      div.appendChild(label);\n",
              "      const progress = document.createElement('progress');\n",
              "      progress.max = size;\n",
              "      div.appendChild(progress);\n",
              "      document.body.appendChild(div);\n",
              "\n",
              "      const buffers = [];\n",
              "      let downloaded = 0;\n",
              "\n",
              "      const channel = await google.colab.kernel.comms.open(id);\n",
              "      // Send a message to notify the kernel that we're ready.\n",
              "      channel.send({})\n",
              "\n",
              "      for await (const message of channel.messages) {\n",
              "        // Send a message to notify the kernel that we're ready.\n",
              "        channel.send({})\n",
              "        if (message.buffers) {\n",
              "          for (const buffer of message.buffers) {\n",
              "            buffers.push(buffer);\n",
              "            downloaded += buffer.byteLength;\n",
              "            progress.value = downloaded;\n",
              "          }\n",
              "        }\n",
              "      }\n",
              "      const blob = new Blob(buffers, {type: 'application/binary'});\n",
              "      const a = document.createElement('a');\n",
              "      a.href = window.URL.createObjectURL(blob);\n",
              "      a.download = filename;\n",
              "      div.appendChild(a);\n",
              "      a.click();\n",
              "      div.remove();\n",
              "    }\n",
              "  "
            ],
            "text/plain": [
              "<IPython.core.display.Javascript object>"
            ]
          },
          "metadata": {},
          "output_type": "display_data"
        },
        {
          "data": {
            "application/javascript": [
              "download(\"download_f0614c14-d1c3-4fc8-ab80-2776fd1e1d8a\", \"file.zip\", 528067)"
            ],
            "text/plain": [
              "<IPython.core.display.Javascript object>"
            ]
          },
          "metadata": {},
          "output_type": "display_data"
        }
      ],
      "source": [
        "from google.colab import files\n",
        "files.download(\"/content/file.zip\")"
      ]
    },
    {
      "cell_type": "markdown",
      "metadata": {
        "id": "yrXgsrKlaPu8"
      },
      "source": [
        "## Loading Required Libraries"
      ]
    },
    {
      "cell_type": "code",
      "execution_count": null,
      "metadata": {
        "id": "1dto_7VkVG0a"
      },
      "outputs": [],
      "source": [
        "import os\n",
        "import numpy as np\n",
        "import tensorflow as tf\n",
        "\n",
        "from sklearn.preprocessing import MinMaxScaler\n",
        "from tensorflow.keras import layers, losses, Sequential\n",
        "from tensorflow.keras.models import Model\n",
        "from tensorflow.keras.optimizers import Adam\n",
        "from tensorflow.keras.callbacks import EarlyStopping\n",
        "from keras.models import load_model\n",
        "from tensorflow.keras.callbacks import ModelCheckpoint"
      ]
    },
    {
      "cell_type": "markdown",
      "metadata": {
        "id": "teSgS1sXWEv0"
      },
      "source": [
        "## Mounting drive"
      ]
    },
    {
      "cell_type": "code",
      "execution_count": null,
      "metadata": {
        "colab": {
          "base_uri": "https://localhost:8080/"
        },
        "id": "7kiuEU97VmLQ",
        "outputId": "27ffa26c-fe55-44fd-bf43-06c4b3d004c3"
      },
      "outputs": [
        {
          "name": "stdout",
          "output_type": "stream",
          "text": [
            "Mounted at /drive\n"
          ]
        }
      ],
      "source": [
        "from google.colab import drive\n",
        "drive.mount('/drive')"
      ]
    },
    {
      "cell_type": "markdown",
      "metadata": {
        "id": "1t6gWn6Jd0k8"
      },
      "source": [
        "## Autoencoder"
      ]
    },
    {
      "cell_type": "code",
      "execution_count": null,
      "metadata": {
        "id": "Oc2GYrxXd4be"
      },
      "outputs": [],
      "source": [
        "class Autoencoder(Model):\n",
        "    def __init__(self):\n",
        "        super(Autoencoder, self).__init__()\n",
        "        self.encoder = Sequential([\n",
        "            layers.Dense(115, activation=\"relu\"),\n",
        "            layers.Dense(86, activation=\"relu\"),\n",
        "            layers.Dense(57, activation=\"relu\"),\n",
        "            layers.Dense(37, activation=\"relu\"),\n",
        "            layers.Dense(28, activation=\"relu\")\n",
        "        ])\n",
        "        self.decoder = Sequential([\n",
        "            layers.Dense(37, activation=\"relu\"),\n",
        "            layers.Dense(57, activation=\"relu\"),\n",
        "            layers.Dense(86, activation=\"relu\"),\n",
        "            layers.Dense(115, activation=\"sigmoid\")\n",
        "        ])\n",
        "    \n",
        "    def call(self, x):\n",
        "        encoded = self.encoder(x)\n",
        "        decoded = self.decoder(encoded)\n",
        "        return decoded"
      ]
    },
    {
      "cell_type": "markdown",
      "metadata": {
        "id": "13l1yF66eEd8"
      },
      "source": [
        "## Function To print Stats"
      ]
    },
    {
      "cell_type": "code",
      "execution_count": null,
      "metadata": {
        "id": "EAkjJbFReI_t"
      },
      "outputs": [],
      "source": [
        "def print_stats(data, outcome):\n",
        "    print(f\"Shape of data: {data.shape}\")\n",
        "    print(f\"Detected anomalies: {np.mean(outcome)*100}%\")\n",
        "    print()"
      ]
    },
    {
      "cell_type": "markdown",
      "metadata": {
        "id": "-7NC0uniadRt"
      },
      "source": [
        "## IOT Device 1: Danmini Doorbell"
      ]
    },
    {
      "cell_type": "markdown",
      "metadata": {
        "id": "U8z6Sq9QX-ET"
      },
      "source": [
        "### Loading the dataset"
      ]
    },
    {
      "cell_type": "code",
      "execution_count": null,
      "metadata": {
        "id": "-SK9Z9TKYLG1"
      },
      "outputs": [],
      "source": [
        "def load_nbaiot(filename):\n",
        "    return np.genfromtxt(\n",
        "        os.path.join(\"/drive/My Drive/Mini_Project_Dataset/N-Balot_Dataset\", filename),\n",
        "        delimiter=\",\",\n",
        "        skip_header=1\n",
        "    )\n",
        "\n",
        "benign = load_nbaiot(\"1.benign.csv\")\n",
        "X_train = benign[:40000]\n",
        "# X_test0 = benign[40000:]\n",
        "# X_test1 = load_nbaiot(\"1.mirai.scan.csv\")\n",
        "# X_test2 = load_nbaiot(\"1.mirai.ack.csv\")\n",
        "# X_test3 = load_nbaiot(\"1.mirai.syn.csv\")\n",
        "# X_test4 = load_nbaiot(\"1.mirai.udp.csv\")\n",
        "# X_test5 = load_nbaiot(\"1.mirai.udpplain.csv\")\n",
        "# X_test6 = load_nbaiot(\"1.gafgyt.combo.csv\")\n",
        "# X_test7 = load_nbaiot(\"1.gafgyt.junk.csv\")\n",
        "# X_test8 = load_nbaiot(\"1.gafgyt.scan.csv\")\n",
        "# X_test9 = load_nbaiot(\"1.gafgyt.tcp.csv\")\n",
        "# X_test10 = load_nbaiot(\"1.gafgyt.udp.csv\")"
      ]
    },
    {
      "cell_type": "code",
      "execution_count": null,
      "metadata": {
        "colab": {
          "base_uri": "https://localhost:8080/"
        },
        "id": "FUmUVBiaYg3b",
        "outputId": "f4149615-3fe6-4925-be92-b90ce5c02a42"
      },
      "outputs": [
        {
          "name": "stdout",
          "output_type": "stream",
          "text": [
            "(40000, 115)\n"
          ]
        }
      ],
      "source": [
        "print(X_train.shape)"
      ]
    },
    {
      "cell_type": "markdown",
      "metadata": {
        "id": "CY-RXxMSeXtb"
      },
      "source": [
        "### Training the autoencoder"
      ]
    },
    {
      "cell_type": "code",
      "execution_count": null,
      "metadata": {
        "colab": {
          "base_uri": "https://localhost:8080/"
        },
        "id": "Gpn992UJecO0",
        "outputId": "b8b35c07-c154-45ed-b202-dd8c177cdcd1"
      },
      "outputs": [
        {
          "name": "stdout",
          "output_type": "stream",
          "text": [
            "Epoch 1/800\n",
            "865/875 [============================>.] - ETA: 0s - loss: 0.0029\n",
            "Epoch 1: val_loss improved from -inf to 0.00139, saving model to ae_model\n",
            "875/875 [==============================] - 7s 7ms/step - loss: 0.0029 - val_loss: 0.0014\n",
            "Epoch 2/800\n",
            "875/875 [==============================] - ETA: 0s - loss: 9.3745e-04\n",
            "Epoch 2: val_loss did not improve from 0.00139\n",
            "875/875 [==============================] - 4s 4ms/step - loss: 9.3745e-04 - val_loss: 0.0014\n",
            "Epoch 3/800\n",
            "864/875 [============================>.] - ETA: 0s - loss: 9.0842e-04\n",
            "Epoch 3: val_loss did not improve from 0.00139\n",
            "875/875 [==============================] - 4s 4ms/step - loss: 9.0574e-04 - val_loss: 0.0011\n",
            "Epoch 4/800\n",
            "875/875 [==============================] - ETA: 0s - loss: 8.6267e-04\n",
            "Epoch 4: val_loss did not improve from 0.00139\n",
            "875/875 [==============================] - 4s 4ms/step - loss: 8.6267e-04 - val_loss: 0.0011\n",
            "Epoch 5/800\n",
            "864/875 [============================>.] - ETA: 0s - loss: 7.6263e-04\n",
            "Epoch 5: val_loss did not improve from 0.00139\n",
            "875/875 [==============================] - 4s 4ms/step - loss: 7.5965e-04 - val_loss: 0.0010\n",
            "Epoch 6/800\n",
            "861/875 [============================>.] - ETA: 0s - loss: 7.1498e-04\n",
            "Epoch 6: val_loss did not improve from 0.00139\n",
            "875/875 [==============================] - 4s 4ms/step - loss: 7.1330e-04 - val_loss: 8.9517e-04\n",
            "Epoch 7/800\n",
            "866/875 [============================>.] - ETA: 0s - loss: 6.8091e-04\n",
            "Epoch 7: val_loss did not improve from 0.00139\n",
            "875/875 [==============================] - 3s 4ms/step - loss: 6.8460e-04 - val_loss: 9.0388e-04\n",
            "Epoch 8/800\n",
            "860/875 [============================>.] - ETA: 0s - loss: 7.1558e-04\n",
            "Epoch 8: val_loss did not improve from 0.00139\n",
            "875/875 [==============================] - 3s 4ms/step - loss: 7.1451e-04 - val_loss: 8.8446e-04\n",
            "Epoch 9/800\n",
            "865/875 [============================>.] - ETA: 0s - loss: 6.9949e-04\n",
            "Epoch 9: val_loss did not improve from 0.00139\n",
            "875/875 [==============================] - 4s 4ms/step - loss: 6.9670e-04 - val_loss: 9.9097e-04\n",
            "Epoch 10/800\n",
            "867/875 [============================>.] - ETA: 0s - loss: 9.6114e-04\n",
            "Epoch 10: val_loss did not improve from 0.00139\n",
            "875/875 [==============================] - 4s 4ms/step - loss: 9.5624e-04 - val_loss: 0.0011\n",
            "Epoch 11/800\n",
            "869/875 [============================>.] - ETA: 0s - loss: 7.7347e-04\n",
            "Epoch 11: val_loss did not improve from 0.00139\n",
            "875/875 [==============================] - 4s 4ms/step - loss: 7.7099e-04 - val_loss: 0.0011\n",
            "Epoch 12/800\n",
            "869/875 [============================>.] - ETA: 0s - loss: 7.6804e-04\n",
            "Epoch 12: val_loss did not improve from 0.00139\n",
            "875/875 [==============================] - 4s 4ms/step - loss: 7.6852e-04 - val_loss: 0.0011\n",
            "Epoch 13/800\n",
            "868/875 [============================>.] - ETA: 0s - loss: 7.4157e-04\n",
            "Epoch 13: val_loss did not improve from 0.00139\n",
            "875/875 [==============================] - 4s 4ms/step - loss: 7.3871e-04 - val_loss: 0.0010\n",
            "Epoch 13: early stopping\n",
            "0.00753932\n"
          ]
        }
      ],
      "source": [
        "checkpoint = ModelCheckpoint(\"ae_model\", monitor='val_loss', verbose=1, save_best_only=True, mode='max')\n",
        "scaler = MinMaxScaler()\n",
        "x = scaler.fit_transform(X_train)\n",
        "\n",
        "ae = Autoencoder()\n",
        "ae.compile(optimizer=Adam(learning_rate=0.01), loss='mse')\n",
        "monitor = EarlyStopping(\n",
        "    monitor='val_loss',\n",
        "    min_delta=1e-9,\n",
        "    patience=5,\n",
        "    verbose=1,\n",
        "    mode='auto'\n",
        ")\n",
        "ae.fit(\n",
        "    x=x,\n",
        "    y=x,\n",
        "    epochs=800,\n",
        "    validation_split=0.3,\n",
        "    shuffle=True,\n",
        "    callbacks=[monitor, checkpoint]\n",
        ")\n",
        "\n",
        "training_loss = losses.mse(x, ae(x))\n",
        "threshold = np.mean(training_loss)+np.std(training_loss)\n",
        "print(threshold)"
      ]
    },
    {
      "cell_type": "markdown",
      "metadata": {
        "id": "TruJkLt9_GhW"
      },
      "source": [
        "### Testing the autoencoder"
      ]
    },
    {
      "cell_type": "code",
      "execution_count": null,
      "metadata": {
        "colab": {
          "base_uri": "https://localhost:8080/"
        },
        "id": "vFD2wMbt_LIO",
        "outputId": "f0500d1f-7c30-4b2e-caa8-471c9b057abb"
      },
      "outputs": [
        {
          "name": "stdout",
          "output_type": "stream",
          "text": [
            "0\n",
            "Shape of data: (9548, 115)\n",
            "Detected anomalies: 0.5492764339283829%\n",
            "\n",
            "1\n",
            "Shape of data: (107685, 115)\n",
            "Detected anomalies: 100.0%\n",
            "\n",
            "2\n",
            "Shape of data: (102195, 115)\n",
            "Detected anomalies: 100.0%\n",
            "\n",
            "3\n",
            "Shape of data: (122573, 115)\n",
            "Detected anomalies: 100.0%\n",
            "\n",
            "4\n",
            "Shape of data: (237665, 115)\n",
            "Detected anomalies: 100.0%\n",
            "\n",
            "5\n",
            "Shape of data: (81982, 115)\n",
            "Detected anomalies: 100.0%\n",
            "\n",
            "6\n",
            "Shape of data: (59718, 115)\n",
            "Detected anomalies: 100.0%\n",
            "\n",
            "7\n",
            "Shape of data: (29068, 115)\n",
            "Detected anomalies: 100.0%\n",
            "\n",
            "8\n",
            "Shape of data: (29849, 115)\n",
            "Detected anomalies: 100.0%\n",
            "\n",
            "9\n",
            "Shape of data: (92141, 115)\n",
            "Detected anomalies: 100.0%\n",
            "\n",
            "10\n",
            "Shape of data: (105874, 115)\n",
            "Detected anomalies: 100.0%\n",
            "\n"
          ]
        }
      ],
      "source": [
        "def predict(x, threshold=threshold, window_size=82):\n",
        "    x = scaler.transform(x)\n",
        "    predictions = losses.mse(x, ae(x)) > threshold\n",
        "    # Majority voting over `window_size` predictions\n",
        "    return np.array([np.mean(predictions[i-window_size:i]) > 0.5\n",
        "                     for i in range(window_size, len(predictions)+1)])\n",
        "\n",
        "test_data = [X_test0, X_test1, X_test2, X_test3, X_test4, X_test5, X_test6, X_test7, X_test8, X_test9, X_test10]\n",
        "\n",
        "for i, x in enumerate(test_data):\n",
        "    print(i)\n",
        "    outcome = predict(x)\n",
        "    print_stats(x, outcome)"
      ]
    },
    {
      "cell_type": "markdown",
      "metadata": {
        "id": "zT7TJ8W9CcE2"
      },
      "source": [
        "## IOT Device 2: Ecobee Thermostat"
      ]
    },
    {
      "cell_type": "markdown",
      "metadata": {
        "id": "MM6kLb1NCmgK"
      },
      "source": [
        "### Loading the dataset"
      ]
    },
    {
      "cell_type": "code",
      "execution_count": null,
      "metadata": {
        "id": "Tpi4zrcZCq9r"
      },
      "outputs": [],
      "source": [
        "def load_nbaiot(filename):\n",
        "    return np.genfromtxt(\n",
        "        os.path.join(\"/drive/My Drive/Mini_Project_Dataset/N-Balot_Dataset\", filename),\n",
        "        delimiter=\",\",\n",
        "        skip_header=1\n",
        "    )\n",
        "\n",
        "benign = load_nbaiot(\"2.benign.csv\")\n",
        "X_train = benign[:10000]\n",
        "X_test0 = benign[10000:]\n",
        "X_test1 = load_nbaiot(\"2.mirai.scan.csv\")\n",
        "X_test2 = load_nbaiot(\"2.mirai.ack.csv\")\n",
        "X_test3 = load_nbaiot(\"2.mirai.syn.csv\")\n",
        "X_test4 = load_nbaiot(\"2.mirai.udp.csv\")\n",
        "X_test5 = load_nbaiot(\"2.mirai.udpplain.csv\")\n",
        "X_test6 = load_nbaiot(\"2.gafgyt.combo.csv\")\n",
        "X_test7 = load_nbaiot(\"2.gafgyt.junk.csv\")\n",
        "X_test8 = load_nbaiot(\"2.gafgyt.scan.csv\")\n",
        "X_test9 = load_nbaiot(\"2.gafgyt.tcp.csv\")\n",
        "X_test10 = load_nbaiot(\"2.gafgyt.udp.csv\")"
      ]
    },
    {
      "cell_type": "code",
      "execution_count": null,
      "metadata": {
        "colab": {
          "base_uri": "https://localhost:8080/"
        },
        "id": "Jdz2kORrDAJC",
        "outputId": "fc6b8ff3-c7ef-4022-d223-3a5ed35f03e7"
      },
      "outputs": [
        {
          "name": "stdout",
          "output_type": "stream",
          "text": [
            "(40000, 115) (9548, 115) (107685, 115) (102195, 115) (122573, 115) (237665, 115) (81982, 115) (59718, 115) (29068, 115) (29849, 115) (92141, 115) (105874, 115)\n"
          ]
        }
      ],
      "source": [
        "print(X_train.shape, X_test0.shape, X_test1.shape, X_test2.shape,\n",
        "      X_test3.shape, X_test4.shape, X_test5.shape, X_test6.shape, \n",
        "      X_test7.shape, X_test8.shape, X_test9.shape, X_test10.shape)"
      ]
    },
    {
      "cell_type": "markdown",
      "metadata": {
        "id": "RPwG4hiKC3kY"
      },
      "source": [
        "### Training the autoencoder"
      ]
    },
    {
      "cell_type": "code",
      "execution_count": null,
      "metadata": {
        "colab": {
          "base_uri": "https://localhost:8080/"
        },
        "id": "X2KbqOcmC7Ia",
        "outputId": "b3c5a843-b344-403c-f54a-88bea1415822"
      },
      "outputs": [
        {
          "name": "stdout",
          "output_type": "stream",
          "text": [
            "Epoch 1/800\n",
            "875/875 [==============================] - 5s 5ms/step - loss: 0.0029 - val_loss: 0.0011\n",
            "Epoch 2/800\n",
            "875/875 [==============================] - 4s 5ms/step - loss: 8.7995e-04 - val_loss: 0.0023\n",
            "Epoch 3/800\n",
            "875/875 [==============================] - 4s 5ms/step - loss: 0.0011 - val_loss: 0.0011\n",
            "Epoch 4/800\n",
            "875/875 [==============================] - 5s 5ms/step - loss: 9.0517e-04 - val_loss: 0.0010\n",
            "Epoch 5/800\n",
            "875/875 [==============================] - 4s 5ms/step - loss: 7.9216e-04 - val_loss: 0.0011\n",
            "Epoch 6/800\n",
            "875/875 [==============================] - 4s 4ms/step - loss: 6.4929e-04 - val_loss: 7.0222e-04\n",
            "Epoch 7/800\n",
            "875/875 [==============================] - 4s 4ms/step - loss: 5.7037e-04 - val_loss: 5.8930e-04\n",
            "Epoch 8/800\n",
            "875/875 [==============================] - 4s 4ms/step - loss: 9.7086e-04 - val_loss: 0.0010\n",
            "Epoch 9/800\n",
            "875/875 [==============================] - 4s 5ms/step - loss: 7.5737e-04 - val_loss: 0.0011\n",
            "Epoch 10/800\n",
            "875/875 [==============================] - 4s 5ms/step - loss: 6.7566e-04 - val_loss: 7.8695e-04\n",
            "Epoch 11/800\n",
            "875/875 [==============================] - 4s 5ms/step - loss: 5.9298e-04 - val_loss: 7.0460e-04\n",
            "Epoch 12/800\n",
            "875/875 [==============================] - 4s 5ms/step - loss: 5.8291e-04 - val_loss: 7.7541e-04\n",
            "Epoch 12: early stopping\n"
          ]
        }
      ],
      "source": [
        "scaler = MinMaxScaler()\n",
        "x = scaler.fit_transform(X_train)\n",
        "\n",
        "ae = Autoencoder()\n",
        "ae.compile(optimizer=Adam(learning_rate=0.01), loss='mse')\n",
        "monitor = EarlyStopping(\n",
        "    monitor='val_loss',\n",
        "    min_delta=1e-9,\n",
        "    patience=5,\n",
        "    verbose=1,\n",
        "    mode='auto'\n",
        ")\n",
        "ae.fit(\n",
        "    x=x,\n",
        "    y=x,\n",
        "    epochs=800,\n",
        "    validation_split=0.3,\n",
        "    shuffle=True,\n",
        "    callbacks=[monitor]\n",
        ")\n",
        "\n",
        "training_loss = losses.mse(x, ae(x))\n",
        "threshold = np.mean(training_loss)+np.std(training_loss)"
      ]
    },
    {
      "cell_type": "markdown",
      "metadata": {
        "id": "_DNRR2sBDKLj"
      },
      "source": [
        "### Testing the autoencoder"
      ]
    },
    {
      "cell_type": "code",
      "execution_count": null,
      "metadata": {
        "colab": {
          "base_uri": "https://localhost:8080/"
        },
        "id": "8SKgEX9FDMX2",
        "outputId": "30be0f57-a31a-4fbd-8169-029f2d9dd924"
      },
      "outputs": [
        {
          "name": "stdout",
          "output_type": "stream",
          "text": [
            "0\n",
            "Shape of data: (9548, 115)\n",
            "Detected anomalies: 0.5281504172388296%\n",
            "\n",
            "1\n",
            "Shape of data: (107685, 115)\n",
            "Detected anomalies: 100.0%\n",
            "\n",
            "2\n",
            "Shape of data: (102195, 115)\n",
            "Detected anomalies: 100.0%\n",
            "\n",
            "3\n",
            "Shape of data: (122573, 115)\n",
            "Detected anomalies: 100.0%\n",
            "\n",
            "4\n",
            "Shape of data: (237665, 115)\n",
            "Detected anomalies: 100.0%\n",
            "\n",
            "5\n",
            "Shape of data: (81982, 115)\n",
            "Detected anomalies: 100.0%\n",
            "\n",
            "6\n",
            "Shape of data: (59718, 115)\n",
            "Detected anomalies: 100.0%\n",
            "\n",
            "7\n",
            "Shape of data: (29068, 115)\n",
            "Detected anomalies: 100.0%\n",
            "\n",
            "8\n",
            "Shape of data: (29849, 115)\n",
            "Detected anomalies: 100.0%\n",
            "\n",
            "9\n",
            "Shape of data: (92141, 115)\n",
            "Detected anomalies: 100.0%\n",
            "\n",
            "10\n",
            "Shape of data: (105874, 115)\n",
            "Detected anomalies: 100.0%\n",
            "\n"
          ]
        }
      ],
      "source": [
        "def predict(x, threshold=threshold, window_size=82):\n",
        "    x = scaler.transform(x)\n",
        "    predictions = losses.mse(x, ae(x)) > threshold\n",
        "    # Majority voting over `window_size` predictions\n",
        "    return np.array([np.mean(predictions[i-window_size:i]) > 0.5\n",
        "                     for i in range(window_size, len(predictions)+1)])\n",
        "\n",
        "test_data = [X_test0, X_test1, X_test2, X_test3, X_test4, X_test5, X_test6, X_test7, X_test8, X_test9, X_test10]\n",
        "\n",
        "for i, x in enumerate(test_data):\n",
        "    print(i)\n",
        "    outcome = predict(x)\n",
        "    print_stats(x, outcome)"
      ]
    },
    {
      "cell_type": "markdown",
      "metadata": {
        "id": "RuNUcVbkFJD_"
      },
      "source": [
        "## IOT Device 3: Ennio Doorbell"
      ]
    },
    {
      "cell_type": "markdown",
      "metadata": {
        "id": "8MmXDt_ZFOQG"
      },
      "source": [
        "### Loading the dataset"
      ]
    },
    {
      "cell_type": "code",
      "execution_count": null,
      "metadata": {
        "id": "d4V89G74FR5o"
      },
      "outputs": [],
      "source": [
        "def load_nbaiot(filename):\n",
        "    return np.genfromtxt(\n",
        "        os.path.join(\"/drive/My Drive/Mini_Project_Dataset/N-Balot_Dataset\", filename),\n",
        "        delimiter=\",\",\n",
        "        skip_header=1\n",
        "    )\n",
        "\n",
        "benign = load_nbaiot(\"3.benign.csv\")\n",
        "X_train = benign[:30000]\n",
        "X_test0 = benign[30000:]\n",
        "X_test1 = load_nbaiot(\"3.gafgyt.combo.csv\")\n",
        "X_test2 = load_nbaiot(\"3.gafgyt.junk.csv\")\n",
        "X_test3 = load_nbaiot(\"3.gafgyt.scan.csv\")\n",
        "X_test4 = load_nbaiot(\"3.gafgyt.tcp.csv\")\n",
        "X_test5 = load_nbaiot(\"3.gafgyt.udp.csv\")"
      ]
    },
    {
      "cell_type": "code",
      "execution_count": null,
      "metadata": {
        "colab": {
          "base_uri": "https://localhost:8080/"
        },
        "id": "nvQ8A5R1FnGX",
        "outputId": "82ece572-a35d-4207-a0b9-52073601eb9a"
      },
      "outputs": [
        {
          "name": "stdout",
          "output_type": "stream",
          "text": [
            "(30000, 115) (9100, 115) (53014, 115) (29797, 115) (28120, 115) (101536, 115) (103933, 115)\n"
          ]
        }
      ],
      "source": [
        "print(X_train.shape, X_test0.shape, X_test1.shape, X_test2.shape,\n",
        "      X_test3.shape, X_test4.shape, X_test5.shape)"
      ]
    },
    {
      "cell_type": "markdown",
      "metadata": {
        "id": "dP0F-Pz7Fqir"
      },
      "source": [
        "### Training the autoencoder"
      ]
    },
    {
      "cell_type": "code",
      "execution_count": null,
      "metadata": {
        "colab": {
          "base_uri": "https://localhost:8080/"
        },
        "id": "MKjtvdiTFtNx",
        "outputId": "c067072d-ca5a-42db-89d8-1b761b4bb30f"
      },
      "outputs": [
        {
          "name": "stdout",
          "output_type": "stream",
          "text": [
            "Epoch 1/800\n",
            "657/657 [==============================] - 4s 5ms/step - loss: 0.0147 - val_loss: 0.0069\n",
            "Epoch 2/800\n",
            "657/657 [==============================] - 3s 5ms/step - loss: 0.0143 - val_loss: 0.0064\n",
            "Epoch 3/800\n",
            "657/657 [==============================] - 3s 4ms/step - loss: 0.0143 - val_loss: 0.0064\n",
            "Epoch 4/800\n",
            "657/657 [==============================] - 3s 5ms/step - loss: 0.0143 - val_loss: 0.0057\n",
            "Epoch 5/800\n",
            "657/657 [==============================] - 3s 4ms/step - loss: 0.0143 - val_loss: 0.0065\n",
            "Epoch 6/800\n",
            "657/657 [==============================] - 6s 9ms/step - loss: 0.0143 - val_loss: 0.0062\n",
            "Epoch 7/800\n",
            "657/657 [==============================] - 3s 4ms/step - loss: 0.0143 - val_loss: 0.0062\n",
            "Epoch 8/800\n",
            "657/657 [==============================] - 3s 5ms/step - loss: 0.0143 - val_loss: 0.0059\n",
            "Epoch 9/800\n",
            "657/657 [==============================] - 4s 7ms/step - loss: 0.0143 - val_loss: 0.0062\n",
            "Epoch 9: early stopping\n"
          ]
        }
      ],
      "source": [
        "scaler = MinMaxScaler()\n",
        "x = scaler.fit_transform(X_train)\n",
        "encoder = load_model('ae_model')\n",
        "# ae = Autoencoder()\n",
        "# ae.compile(optimizer=Adam(learning_rate=0.01), loss='mse')\n",
        "monitor = EarlyStopping(\n",
        "    monitor='val_loss',\n",
        "    min_delta=1e-9,\n",
        "    patience=5,\n",
        "    verbose=1,\n",
        "    mode='auto'\n",
        ")\n",
        "ae.fit(\n",
        "    x=x,\n",
        "    y=x,\n",
        "    epochs=800,\n",
        "    validation_split=0.3,\n",
        "    shuffle=True,\n",
        "    callbacks=[monitor, checkpoint]\n",
        ")\n",
        "\n",
        "training_loss = losses.mse(x, ae(x))\n",
        "threshold = np.mean(training_loss)+np.std(training_loss)"
      ]
    },
    {
      "cell_type": "markdown",
      "metadata": {
        "id": "gdSQkvI6F2tu"
      },
      "source": [
        "### Testing the autoencoder"
      ]
    },
    {
      "cell_type": "code",
      "execution_count": null,
      "metadata": {
        "colab": {
          "base_uri": "https://localhost:8080/"
        },
        "id": "xgkSrc-rF7Kn",
        "outputId": "9fb6577d-7121-4352-ba86-0e46b7013ef5"
      },
      "outputs": [
        {
          "name": "stdout",
          "output_type": "stream",
          "text": [
            "0\n",
            "Shape of data: (9100, 115)\n",
            "Detected anomalies: 100.0%\n",
            "\n",
            "1\n",
            "Shape of data: (53014, 115)\n",
            "Detected anomalies: 100.0%\n",
            "\n",
            "2\n",
            "Shape of data: (29797, 115)\n",
            "Detected anomalies: 100.0%\n",
            "\n",
            "3\n",
            "Shape of data: (28120, 115)\n",
            "Detected anomalies: 100.0%\n",
            "\n",
            "4\n",
            "Shape of data: (101536, 115)\n",
            "Detected anomalies: 100.0%\n",
            "\n",
            "5\n",
            "Shape of data: (103933, 115)\n",
            "Detected anomalies: 100.0%\n",
            "\n"
          ]
        }
      ],
      "source": [
        "# encoder = load_model('ae_model')\n",
        "def predict(x, threshold=threshold, window_size=82):\n",
        "    x = scaler.transform(x)\n",
        "    predictions = losses.mse(x, encoder(x)) > threshold\n",
        "    # Majority voting over `window_size` predictions\n",
        "    return np.array([np.mean(predictions[i-window_size:i]) > 0.5\n",
        "                     for i in range(window_size, len(predictions)+1)])\n",
        "\n",
        "test_data = [X_test0, X_test1, X_test2, X_test3, X_test4, X_test5]\n",
        "\n",
        "for i, x in enumerate(test_data):\n",
        "    print(i)\n",
        "    outcome = predict(x)\n",
        "    print_stats(x, outcome)"
      ]
    },
    {
      "cell_type": "markdown",
      "metadata": {
        "id": "AUncEZC1HE37"
      },
      "source": [
        "## IOT Device 4: Philips B120N10 Baby Monitor"
      ]
    },
    {
      "cell_type": "markdown",
      "metadata": {
        "id": "RTX99OIGHJ4A"
      },
      "source": [
        "### Loading the dataset"
      ]
    },
    {
      "cell_type": "code",
      "execution_count": null,
      "metadata": {
        "id": "G4e8qtWIHNC_"
      },
      "outputs": [],
      "source": [
        "def load_nbaiot(filename):\n",
        "    return np.genfromtxt(\n",
        "        os.path.join(\"/drive/My Drive/Mini_Project_Dataset/N-Balot_Dataset\", filename),\n",
        "        delimiter=\",\",\n",
        "        skip_header=1\n",
        "    )\n",
        "\n",
        "benign = load_nbaiot(\"4.benign.csv\")\n",
        "X_train = benign[:160000]\n",
        "X_test0 = benign[160000:]\n",
        "X_test1 = load_nbaiot(\"4.mirai.scan.csv\")\n",
        "X_test2 = load_nbaiot(\"4.mirai.ack.csv\")\n",
        "X_test3 = load_nbaiot(\"4.mirai.syn.csv\")\n",
        "X_test4 = load_nbaiot(\"4.mirai.udp.csv\")\n",
        "X_test5 = load_nbaiot(\"4.mirai.udpplain.csv\")\n",
        "X_test6 = load_nbaiot(\"4.gafgyt.combo.csv\")\n",
        "X_test7 = load_nbaiot(\"4.gafgyt.junk.csv\")\n",
        "X_test8 = load_nbaiot(\"4.gafgyt.scan.csv\")\n",
        "X_test9 = load_nbaiot(\"4.gafgyt.tcp.csv\")\n",
        "X_test10 = load_nbaiot(\"4.gafgyt.udp.csv\")"
      ]
    },
    {
      "cell_type": "code",
      "execution_count": null,
      "metadata": {
        "colab": {
          "base_uri": "https://localhost:8080/"
        },
        "id": "6TNoMK1kHaso",
        "outputId": "f9fa937c-c71a-42e2-e12c-d473a2a8ed6f"
      },
      "outputs": [
        {
          "name": "stdout",
          "output_type": "stream",
          "text": [
            "(160000, 115) (15240, 115) (103621, 115) (91123, 115) (118128, 115) (217034, 115) (80808, 115) (58152, 115) (28349, 115) (27859, 115) (92581, 115) (105782, 115)\n"
          ]
        }
      ],
      "source": [
        "print(X_train.shape, X_test0.shape, X_test1.shape, X_test2.shape,\n",
        "      X_test3.shape, X_test4.shape, X_test5.shape, X_test6.shape, \n",
        "      X_test7.shape, X_test8.shape, X_test9.shape, X_test10.shape)"
      ]
    },
    {
      "cell_type": "markdown",
      "metadata": {
        "id": "Ebz5iiRUHexf"
      },
      "source": [
        "### Training the autoencoder"
      ]
    },
    {
      "cell_type": "code",
      "execution_count": null,
      "metadata": {
        "colab": {
          "base_uri": "https://localhost:8080/"
        },
        "id": "43gO-NxeHh4A",
        "outputId": "fc6575ce-fe31-4ca9-b0bb-00e5a42f8da0"
      },
      "outputs": [
        {
          "name": "stdout",
          "output_type": "stream",
          "text": [
            "Epoch 1/800\n",
            "3500/3500 [==============================] - 16s 4ms/step - loss: 0.0018 - val_loss: 0.0021\n",
            "Epoch 2/800\n",
            "3500/3500 [==============================] - 13s 4ms/step - loss: 0.0015 - val_loss: 0.0012\n",
            "Epoch 3/800\n",
            "3500/3500 [==============================] - 14s 4ms/step - loss: 0.0076 - val_loss: 0.0105\n",
            "Epoch 4/800\n",
            "3500/3500 [==============================] - 15s 4ms/step - loss: 0.0017 - val_loss: 0.0012\n",
            "Epoch 5/800\n",
            "3500/3500 [==============================] - 14s 4ms/step - loss: 0.0010 - val_loss: 0.0011\n",
            "Epoch 6/800\n",
            "3500/3500 [==============================] - 14s 4ms/step - loss: 0.0010 - val_loss: 9.9447e-04\n",
            "Epoch 7/800\n",
            "3500/3500 [==============================] - 16s 5ms/step - loss: 0.0015 - val_loss: 0.0014\n",
            "Epoch 8/800\n",
            "3500/3500 [==============================] - 15s 4ms/step - loss: 0.0011 - val_loss: 0.0010\n",
            "Epoch 9/800\n",
            "3500/3500 [==============================] - 15s 4ms/step - loss: 9.7155e-04 - val_loss: 0.0010\n",
            "Epoch 10/800\n",
            "3500/3500 [==============================] - 14s 4ms/step - loss: 9.5641e-04 - val_loss: 9.6200e-04\n",
            "Epoch 11/800\n",
            "3500/3500 [==============================] - 14s 4ms/step - loss: 9.3368e-04 - val_loss: 0.0011\n",
            "Epoch 12/800\n",
            "3500/3500 [==============================] - 13s 4ms/step - loss: 9.3758e-04 - val_loss: 9.9233e-04\n",
            "Epoch 13/800\n",
            "3500/3500 [==============================] - 13s 4ms/step - loss: 9.3206e-04 - val_loss: 9.6643e-04\n",
            "Epoch 14/800\n",
            "3500/3500 [==============================] - 15s 4ms/step - loss: 0.0010 - val_loss: 0.0014\n",
            "Epoch 15/800\n",
            "3500/3500 [==============================] - 14s 4ms/step - loss: 0.0012 - val_loss: 9.8923e-04\n",
            "Epoch 15: early stopping\n"
          ]
        }
      ],
      "source": [
        "scaler = MinMaxScaler()\n",
        "x = scaler.fit_transform(X_train)\n",
        "\n",
        "ae = Autoencoder()\n",
        "ae.compile(optimizer=Adam(learning_rate=0.01), loss='mse')\n",
        "monitor = EarlyStopping(\n",
        "    monitor='val_loss',\n",
        "    min_delta=1e-9,\n",
        "    patience=5,\n",
        "    verbose=1,\n",
        "    mode='auto'\n",
        ")\n",
        "ae.fit(\n",
        "    x=x,\n",
        "    y=x,\n",
        "    epochs=800,\n",
        "    validation_split=0.3,\n",
        "    shuffle=True,\n",
        "    callbacks=[monitor]\n",
        ")\n",
        "\n",
        "training_loss = losses.mse(x, ae(x))\n",
        "threshold = np.mean(training_loss)+np.std(training_loss)"
      ]
    },
    {
      "cell_type": "markdown",
      "metadata": {
        "id": "oolCqieLHmBZ"
      },
      "source": [
        "### Testing the autoencoder"
      ]
    },
    {
      "cell_type": "code",
      "execution_count": null,
      "metadata": {
        "colab": {
          "base_uri": "https://localhost:8080/"
        },
        "id": "7WKJWXj6Hwc5",
        "outputId": "f17a47f7-a216-452d-d4d7-4dbd6f5b9615"
      },
      "outputs": [
        {
          "name": "stdout",
          "output_type": "stream",
          "text": [
            "0\n",
            "Shape of data: (15240, 115)\n",
            "Detected anomalies: 5.251006003034501%\n",
            "\n",
            "1\n",
            "Shape of data: (103621, 115)\n",
            "Detected anomalies: 100.0%\n",
            "\n",
            "2\n",
            "Shape of data: (91123, 115)\n",
            "Detected anomalies: 100.0%\n",
            "\n",
            "3\n",
            "Shape of data: (118128, 115)\n",
            "Detected anomalies: 100.0%\n",
            "\n",
            "4\n",
            "Shape of data: (217034, 115)\n",
            "Detected anomalies: 100.0%\n",
            "\n",
            "5\n",
            "Shape of data: (80808, 115)\n",
            "Detected anomalies: 100.0%\n",
            "\n",
            "6\n",
            "Shape of data: (58152, 115)\n",
            "Detected anomalies: 100.0%\n",
            "\n",
            "7\n",
            "Shape of data: (28349, 115)\n",
            "Detected anomalies: 100.0%\n",
            "\n",
            "8\n",
            "Shape of data: (27859, 115)\n",
            "Detected anomalies: 100.0%\n",
            "\n",
            "9\n",
            "Shape of data: (92581, 115)\n",
            "Detected anomalies: 100.0%\n",
            "\n",
            "10\n",
            "Shape of data: (105782, 115)\n",
            "Detected anomalies: 100.0%\n",
            "\n"
          ]
        }
      ],
      "source": [
        "def predict(x, threshold=threshold, window_size=82):\n",
        "    x = scaler.transform(x)\n",
        "    predictions = losses.mse(x, ae(x)) > threshold\n",
        "    # Majority voting over `window_size` predictions\n",
        "    return np.array([np.mean(predictions[i-window_size:i]) > 0.5\n",
        "                     for i in range(window_size, len(predictions)+1)])\n",
        "\n",
        "test_data = [X_test0, X_test1, X_test2, X_test3, X_test4, X_test5, X_test6, X_test7, X_test8, X_test9, X_test10]\n",
        "\n",
        "for i, x in enumerate(test_data):\n",
        "    print(i)\n",
        "    outcome = predict(x)\n",
        "    print_stats(x, outcome)"
      ]
    },
    {
      "cell_type": "markdown",
      "metadata": {
        "id": "pLmOuDSFQ3hC"
      },
      "source": [
        "## IOT Device 5: Provision PT 737E Security Camera"
      ]
    },
    {
      "cell_type": "markdown",
      "metadata": {
        "id": "UCczRkslQ-ct"
      },
      "source": [
        "### Loading the dataset"
      ]
    },
    {
      "cell_type": "code",
      "execution_count": null,
      "metadata": {
        "id": "urV5t_NhRASV"
      },
      "outputs": [],
      "source": [
        "def load_nbaiot(filename):\n",
        "    return np.genfromtxt(\n",
        "        os.path.join(\"/drive/My Drive/Mini_Project_Dataset/N-Balot_Dataset\", filename),\n",
        "        delimiter=\",\",\n",
        "        skip_header=1\n",
        "    )\n",
        "\n",
        "benign = load_nbaiot(\"5.benign.csv\")\n",
        "X_train = benign[:55000]\n",
        "X_test0 = benign[55000:]\n",
        "X_test1 = load_nbaiot(\"5.mirai.scan.csv\")\n",
        "X_test2 = load_nbaiot(\"5.mirai.ack.csv\")\n",
        "X_test3 = load_nbaiot(\"5.mirai.syn.csv\")\n",
        "X_test4 = load_nbaiot(\"5.mirai.udp.csv\")\n",
        "X_test5 = load_nbaiot(\"5.mirai.udpplain.csv\")\n",
        "X_test6 = load_nbaiot(\"5.gafgyt.combo.csv\")\n",
        "X_test7 = load_nbaiot(\"5.gafgyt.junk.csv\")\n",
        "X_test8 = load_nbaiot(\"5.gafgyt.scan.csv\")\n",
        "X_test9 = load_nbaiot(\"5.gafgyt.tcp.csv\")\n",
        "X_test10 = load_nbaiot(\"5.gafgyt.udp.csv\")"
      ]
    },
    {
      "cell_type": "code",
      "execution_count": null,
      "metadata": {
        "colab": {
          "base_uri": "https://localhost:8080/"
        },
        "id": "vwXfZoUhRMCI",
        "outputId": "c60c62c1-65da-420d-db87-6d9ca4a3e7cb"
      },
      "outputs": [
        {
          "name": "stdout",
          "output_type": "stream",
          "text": [
            "(55000, 115) (7154, 115) (96781, 115) (60554, 115) (65746, 115) (156248, 115) (56681, 115) (61380, 115) (30898, 115) (29297, 115) (104510, 115) (104011, 115)\n"
          ]
        }
      ],
      "source": [
        "print(X_train.shape, X_test0.shape, X_test1.shape, X_test2.shape,\n",
        "      X_test3.shape, X_test4.shape, X_test5.shape, X_test6.shape, \n",
        "      X_test7.shape, X_test8.shape, X_test9.shape, X_test10.shape)"
      ]
    },
    {
      "cell_type": "markdown",
      "metadata": {
        "id": "TQXckz3ERMgo"
      },
      "source": [
        "### Training the autoencoder"
      ]
    },
    {
      "cell_type": "code",
      "execution_count": null,
      "metadata": {
        "colab": {
          "base_uri": "https://localhost:8080/"
        },
        "id": "tqa6Ssy4RQDL",
        "outputId": "f637cdcc-7b68-4f3c-cc19-769e202648dc"
      },
      "outputs": [
        {
          "name": "stdout",
          "output_type": "stream",
          "text": [
            "Epoch 1/800\n",
            "1192/1204 [============================>.] - ETA: 0s - loss: 0.0035\n",
            "Epoch 1: val_loss improved from -inf to 0.00203, saving model to security_camera_model\n",
            "1204/1204 [==============================] - 8s 6ms/step - loss: 0.0035 - val_loss: 0.0020\n",
            "Epoch 2/800\n",
            "1192/1204 [============================>.] - ETA: 0s - loss: 0.0012\n",
            "Epoch 2: val_loss did not improve from 0.00203\n",
            "1204/1204 [==============================] - 3s 3ms/step - loss: 0.0012 - val_loss: 0.0011\n",
            "Epoch 3/800\n",
            "1204/1204 [==============================] - ETA: 0s - loss: 9.5109e-04\n",
            "Epoch 3: val_loss improved from 0.00203 to 0.00479, saving model to security_camera_model\n",
            "1204/1204 [==============================] - 5s 4ms/step - loss: 9.5109e-04 - val_loss: 0.0048\n",
            "Epoch 4/800\n",
            "1193/1204 [============================>.] - ETA: 0s - loss: 0.0011\n",
            "Epoch 4: val_loss did not improve from 0.00479\n",
            "1204/1204 [==============================] - 3s 3ms/step - loss: 0.0011 - val_loss: 8.1781e-04\n",
            "Epoch 5/800\n",
            "1192/1204 [============================>.] - ETA: 0s - loss: 8.7851e-04\n",
            "Epoch 5: val_loss did not improve from 0.00479\n",
            "1204/1204 [==============================] - 3s 3ms/step - loss: 8.7654e-04 - val_loss: 7.6601e-04\n",
            "Epoch 6/800\n",
            "1192/1204 [============================>.] - ETA: 0s - loss: 6.5729e-04\n",
            "Epoch 6: val_loss did not improve from 0.00479\n",
            "1204/1204 [==============================] - 3s 3ms/step - loss: 6.5931e-04 - val_loss: 8.4600e-04\n",
            "Epoch 7/800\n",
            "1204/1204 [==============================] - ETA: 0s - loss: 0.0010\n",
            "Epoch 7: val_loss did not improve from 0.00479\n",
            "1204/1204 [==============================] - 3s 3ms/step - loss: 0.0010 - val_loss: 0.0012\n",
            "Epoch 8/800\n",
            "1194/1204 [============================>.] - ETA: 0s - loss: 8.7001e-04\n",
            "Epoch 8: val_loss did not improve from 0.00479\n",
            "1204/1204 [==============================] - 3s 3ms/step - loss: 8.6818e-04 - val_loss: 8.3700e-04\n",
            "Epoch 9/800\n",
            "1186/1204 [============================>.] - ETA: 0s - loss: 0.0011\n",
            "Epoch 9: val_loss did not improve from 0.00479\n",
            "1204/1204 [==============================] - 3s 3ms/step - loss: 0.0011 - val_loss: 7.5910e-04\n",
            "Epoch 10/800\n",
            "1196/1204 [============================>.] - ETA: 0s - loss: 6.7532e-04\n",
            "Epoch 10: val_loss did not improve from 0.00479\n",
            "1204/1204 [==============================] - 3s 3ms/step - loss: 6.7490e-04 - val_loss: 7.4151e-04\n",
            "Epoch 11/800\n",
            "1188/1204 [============================>.] - ETA: 0s - loss: 6.9448e-04\n",
            "Epoch 11: val_loss did not improve from 0.00479\n",
            "1204/1204 [==============================] - 3s 3ms/step - loss: 6.9282e-04 - val_loss: 7.0916e-04\n",
            "Epoch 12/800\n",
            "1189/1204 [============================>.] - ETA: 0s - loss: 8.8300e-04\n",
            "Epoch 12: val_loss did not improve from 0.00479\n",
            "1204/1204 [==============================] - 3s 3ms/step - loss: 8.8037e-04 - val_loss: 7.8824e-04\n",
            "Epoch 13/800\n",
            "1199/1204 [============================>.] - ETA: 0s - loss: 6.9150e-04\n",
            "Epoch 13: val_loss did not improve from 0.00479\n",
            "1204/1204 [==============================] - 3s 3ms/step - loss: 6.9068e-04 - val_loss: 6.3004e-04\n",
            "Epoch 14/800\n",
            "1188/1204 [============================>.] - ETA: 0s - loss: 7.8546e-04\n",
            "Epoch 14: val_loss did not improve from 0.00479\n",
            "1204/1204 [==============================] - 4s 3ms/step - loss: 7.8468e-04 - val_loss: 8.4179e-04\n",
            "Epoch 15/800\n",
            "1200/1204 [============================>.] - ETA: 0s - loss: 6.1386e-04\n",
            "Epoch 15: val_loss did not improve from 0.00479\n",
            "1204/1204 [==============================] - 3s 3ms/step - loss: 6.1314e-04 - val_loss: 7.1324e-04\n",
            "Epoch 16/800\n",
            "1194/1204 [============================>.] - ETA: 0s - loss: 6.5103e-04\n",
            "Epoch 16: val_loss did not improve from 0.00479\n",
            "1204/1204 [==============================] - 3s 3ms/step - loss: 6.5361e-04 - val_loss: 9.6430e-04\n",
            "Epoch 17/800\n",
            "1196/1204 [============================>.] - ETA: 0s - loss: 8.1648e-04\n",
            "Epoch 17: val_loss did not improve from 0.00479\n",
            "1204/1204 [==============================] - 3s 3ms/step - loss: 8.1668e-04 - val_loss: 0.0010\n",
            "Epoch 18/800\n",
            "1184/1204 [============================>.] - ETA: 0s - loss: 8.0260e-04\n",
            "Epoch 18: val_loss did not improve from 0.00479\n",
            "1204/1204 [==============================] - 3s 3ms/step - loss: 8.0015e-04 - val_loss: 7.6374e-04\n",
            "Epoch 18: early stopping\n"
          ]
        }
      ],
      "source": [
        "checkpoint = ModelCheckpoint(\"security_camera_model\", monitor='val_loss', verbose=1, save_best_only=True, mode='max')\n",
        "scaler = MinMaxScaler()\n",
        "x = scaler.fit_transform(X_train)\n",
        "\n",
        "ae = Autoencoder()\n",
        "ae.compile(optimizer=Adam(learning_rate=0.01), loss='mse')\n",
        "monitor = EarlyStopping(\n",
        "    monitor='val_loss',\n",
        "    min_delta=1e-9,\n",
        "    patience=5,\n",
        "    verbose=1,\n",
        "    mode='auto'\n",
        ")\n",
        "ae.fit(\n",
        "    x=x,\n",
        "    y=x,\n",
        "    epochs=800,\n",
        "    validation_split=0.3,\n",
        "    shuffle=True,\n",
        "    callbacks=[monitor, checkpoint]\n",
        ")\n",
        "\n",
        "training_loss = losses.mse(x, ae(x))\n",
        "threshold = np.mean(training_loss)+np.std(training_loss)"
      ]
    },
    {
      "cell_type": "markdown",
      "metadata": {
        "id": "VSD3gojZRXLD"
      },
      "source": [
        "### Testing the autoencoder"
      ]
    },
    {
      "cell_type": "code",
      "execution_count": null,
      "metadata": {
        "colab": {
          "base_uri": "https://localhost:8080/"
        },
        "id": "pKH7eWHtRZkJ",
        "outputId": "1149be11-4aeb-47bb-8676-90187336601b"
      },
      "outputs": [
        {
          "name": "stdout",
          "output_type": "stream",
          "text": [
            "0\n",
            "Shape of data: (7154, 115)\n",
            "Detected anomalies: 2.403506291531175%\n",
            "\n",
            "1\n",
            "Shape of data: (96781, 115)\n",
            "Detected anomalies: 100.0%\n",
            "\n",
            "2\n",
            "Shape of data: (60554, 115)\n",
            "Detected anomalies: 100.0%\n",
            "\n",
            "3\n",
            "Shape of data: (65746, 115)\n",
            "Detected anomalies: 100.0%\n",
            "\n",
            "4\n",
            "Shape of data: (156248, 115)\n",
            "Detected anomalies: 100.0%\n",
            "\n",
            "5\n",
            "Shape of data: (56681, 115)\n",
            "Detected anomalies: 100.0%\n",
            "\n",
            "6\n",
            "Shape of data: (61380, 115)\n",
            "Detected anomalies: 100.0%\n",
            "\n",
            "7\n",
            "Shape of data: (30898, 115)\n",
            "Detected anomalies: 100.0%\n",
            "\n",
            "8\n",
            "Shape of data: (29297, 115)\n",
            "Detected anomalies: 100.0%\n",
            "\n",
            "9\n",
            "Shape of data: (104510, 115)\n",
            "Detected anomalies: 100.0%\n",
            "\n",
            "10\n",
            "Shape of data: (104011, 115)\n",
            "Detected anomalies: 100.0%\n",
            "\n"
          ]
        }
      ],
      "source": [
        "def predict(x, threshold=threshold, window_size=82):\n",
        "    x = scaler.transform(x)\n",
        "    predictions = losses.mse(x, ae(x)) > threshold\n",
        "    # Majority voting over `window_size` predictions\n",
        "    return np.array([np.mean(predictions[i-window_size:i]) > 0.5\n",
        "                     for i in range(window_size, len(predictions)+1)])\n",
        "\n",
        "test_data = [X_test0, X_test1, X_test2, X_test3, X_test4, X_test5, X_test6, X_test7, X_test8, X_test9, X_test10]\n",
        "\n",
        "for i, x in enumerate(test_data):\n",
        "    print(i)\n",
        "    outcome = predict(x)\n",
        "    print_stats(x, outcome)"
      ]
    },
    {
      "cell_type": "markdown",
      "metadata": {
        "id": "81byjNSRTdBk"
      },
      "source": [
        "## IOT Device 6: Provision PT 838 Security Camera"
      ]
    },
    {
      "cell_type": "markdown",
      "metadata": {
        "id": "5Alq-UoOTrVa"
      },
      "source": [
        "### Loading the dataset"
      ]
    },
    {
      "cell_type": "code",
      "execution_count": null,
      "metadata": {
        "id": "Z_cn3SWETtNA"
      },
      "outputs": [],
      "source": [
        "def load_nbaiot(filename):\n",
        "    return np.genfromtxt(\n",
        "        os.path.join(\"/drive/My Drive/Mini_Project_Dataset/N-Balot_Dataset\", filename),\n",
        "        delimiter=\",\",\n",
        "        skip_header=1\n",
        "    )\n",
        "\n",
        "benign = load_nbaiot(\"6.benign.csv\")\n",
        "X_train = benign[:10000]\n",
        "X_test0 = benign[10000:]\n",
        "X_test1 = load_nbaiot(\"6.mirai.scan.csv\")\n",
        "X_test2 = load_nbaiot(\"6.mirai.ack.csv\")\n",
        "X_test3 = load_nbaiot(\"6.mirai.syn.csv\")\n",
        "X_test4 = load_nbaiot(\"6.mirai.udp.csv\")\n",
        "X_test5 = load_nbaiot(\"6.mirai.udpplain.csv\")\n",
        "X_test6 = load_nbaiot(\"6.gafgyt.combo.csv\")\n",
        "X_test7 = load_nbaiot(\"6.gafgyt.junk.csv\")\n",
        "X_test8 = load_nbaiot(\"6.gafgyt.scan.csv\")\n",
        "X_test9 = load_nbaiot(\"6.gafgyt.tcp.csv\")\n",
        "X_test10 = load_nbaiot(\"6.gafgyt.udp.csv\")"
      ]
    },
    {
      "cell_type": "code",
      "execution_count": null,
      "metadata": {
        "colab": {
          "base_uri": "https://localhost:8080/"
        },
        "id": "HZ5QqxS5T1t6",
        "outputId": "d5acd4b9-7c67-48e7-c140-0c3d0f0d1933"
      },
      "outputs": [
        {
          "name": "stdout",
          "output_type": "stream",
          "text": [
            "(10000, 115) (88514, 115) (97096, 115) (57997, 115) (61851, 115) (158608, 115) (53785, 115) (57530, 115) (29068, 115) (28397, 115) (89387, 115) (104658, 115)\n"
          ]
        }
      ],
      "source": [
        "print(X_train.shape, X_test0.shape, X_test1.shape, X_test2.shape,\n",
        "      X_test3.shape, X_test4.shape, X_test5.shape, X_test6.shape, \n",
        "      X_test7.shape, X_test8.shape, X_test9.shape, X_test10.shape)"
      ]
    },
    {
      "cell_type": "markdown",
      "metadata": {
        "id": "cOD-a2JZT9A6"
      },
      "source": [
        "### Training the autoencoder"
      ]
    },
    {
      "cell_type": "code",
      "execution_count": null,
      "metadata": {
        "colab": {
          "base_uri": "https://localhost:8080/"
        },
        "id": "_EVy6mrkT_jG",
        "outputId": "6488dab6-99fd-4fc8-aa9a-aec10e14d31d"
      },
      "outputs": [
        {
          "name": "stdout",
          "output_type": "stream",
          "text": [
            "Epoch 1/800\n",
            "219/219 [==============================] - 1s 3ms/step - loss: 0.0030 - val_loss: 0.0015\n",
            "Epoch 2/800\n",
            "219/219 [==============================] - 1s 3ms/step - loss: 0.0028 - val_loss: 0.0016\n",
            "Epoch 3/800\n",
            "219/219 [==============================] - 1s 3ms/step - loss: 0.0018 - val_loss: 0.0013\n",
            "Epoch 4/800\n",
            "219/219 [==============================] - 1s 3ms/step - loss: 0.0016 - val_loss: 0.0011\n",
            "Epoch 5/800\n",
            "219/219 [==============================] - 1s 2ms/step - loss: 0.0015 - val_loss: 9.7908e-04\n",
            "Epoch 6/800\n",
            "219/219 [==============================] - 1s 3ms/step - loss: 0.0015 - val_loss: 0.0023\n",
            "Epoch 7/800\n",
            "219/219 [==============================] - 1s 3ms/step - loss: 0.0032 - val_loss: 0.0019\n",
            "Epoch 8/800\n",
            "219/219 [==============================] - 1s 3ms/step - loss: 0.0026 - val_loss: 0.0027\n",
            "Epoch 9/800\n",
            "219/219 [==============================] - 1s 3ms/step - loss: 0.0027 - val_loss: 0.0018\n",
            "Epoch 10/800\n",
            "219/219 [==============================] - 1s 3ms/step - loss: 0.0019 - val_loss: 0.0011\n",
            "Epoch 10: early stopping\n"
          ]
        }
      ],
      "source": [
        "scaler = MinMaxScaler()\n",
        "x = scaler.fit_transform(X_train)\n",
        "encoder =  load_model('security_camera_model')\n",
        "\n",
        "# ae = Autoencoder()\n",
        "# ae.compile(optimizer=Adam(learning_rate=0.01), loss='mse')\n",
        "monitor = EarlyStopping(\n",
        "    monitor='val_loss',\n",
        "    min_delta=1e-9,\n",
        "    patience=5,\n",
        "    verbose=1,\n",
        "    mode='auto'\n",
        ")\n",
        "encoder.fit(\n",
        "    x=x,\n",
        "    y=x,\n",
        "    epochs=800,\n",
        "    validation_split=0.3,\n",
        "    shuffle=True,\n",
        "    callbacks=[monitor]\n",
        ")\n",
        "\n",
        "training_loss = losses.mse(x, ae(x))\n",
        "threshold = np.mean(training_loss)+np.std(training_loss)"
      ]
    },
    {
      "cell_type": "markdown",
      "metadata": {
        "id": "z8NoblzEUEOb"
      },
      "source": [
        "### Testing the autoencoder"
      ]
    },
    {
      "cell_type": "code",
      "execution_count": null,
      "metadata": {
        "colab": {
          "base_uri": "https://localhost:8080/"
        },
        "id": "Fu43_smpUGEJ",
        "outputId": "63110ab1-d376-4bc3-92ab-27a31b891539"
      },
      "outputs": [
        {
          "name": "stdout",
          "output_type": "stream",
          "text": [
            "0\n",
            "Shape of data: (88514, 115)\n",
            "Detected anomalies: 7.30044214263906%\n",
            "\n",
            "1\n",
            "Shape of data: (97096, 115)\n",
            "Detected anomalies: 100.0%\n",
            "\n",
            "2\n",
            "Shape of data: (57997, 115)\n",
            "Detected anomalies: 100.0%\n",
            "\n",
            "3\n",
            "Shape of data: (61851, 115)\n",
            "Detected anomalies: 100.0%\n",
            "\n",
            "4\n",
            "Shape of data: (158608, 115)\n",
            "Detected anomalies: 100.0%\n",
            "\n",
            "5\n",
            "Shape of data: (53785, 115)\n",
            "Detected anomalies: 100.0%\n",
            "\n",
            "6\n",
            "Shape of data: (57530, 115)\n",
            "Detected anomalies: 100.0%\n",
            "\n",
            "7\n",
            "Shape of data: (29068, 115)\n",
            "Detected anomalies: 100.0%\n",
            "\n",
            "8\n",
            "Shape of data: (28397, 115)\n",
            "Detected anomalies: 100.0%\n",
            "\n",
            "9\n",
            "Shape of data: (89387, 115)\n",
            "Detected anomalies: 0.0%\n",
            "\n",
            "10\n",
            "Shape of data: (104658, 115)\n",
            "Detected anomalies: 0.0%\n",
            "\n"
          ]
        }
      ],
      "source": [
        "\n",
        "def predict(x, threshold=threshold, window_size=82):\n",
        "    x = scaler.transform(x)\n",
        "    predictions = losses.mse(x, encoder(x)) > threshold\n",
        "    # Majority voting over `window_size` predictions\n",
        "    return np.array([np.mean(predictions[i-window_size:i]) > 0.5\n",
        "                     for i in range(window_size, len(predictions)+1)])\n",
        "\n",
        "test_data = [X_test0, X_test1, X_test2, X_test3, X_test4, X_test5, X_test6, X_test7, X_test8, X_test9, X_test10]\n",
        "\n",
        "for i, x in enumerate(test_data):\n",
        "    print(i)\n",
        "    outcome = predict(x)\n",
        "    print_stats(x, outcome)"
      ]
    },
    {
      "cell_type": "markdown",
      "metadata": {
        "id": "gBOzHSlEW9SD"
      },
      "source": [
        "## IOT Device 7: Samsung SNH 1011 N Webcam"
      ]
    },
    {
      "cell_type": "markdown",
      "metadata": {
        "id": "omzX4LoMXBmp"
      },
      "source": [
        "### Loading the dataset"
      ]
    },
    {
      "cell_type": "code",
      "execution_count": null,
      "metadata": {
        "id": "jZwtqGlaXEPA"
      },
      "outputs": [],
      "source": [
        "def load_nbaiot(filename):\n",
        "    return np.genfromtxt(\n",
        "        os.path.join(\"/drive/My Drive/Mini_Project_Dataset/N-Balot_Dataset\", filename),\n",
        "        delimiter=\",\",\n",
        "        skip_header=1\n",
        "    )\n",
        "\n",
        "benign = load_nbaiot(\"7.benign.csv\")\n",
        "X_train = benign[:50000]\n",
        "X_test0 = benign[50000:]\n",
        "X_test1 = load_nbaiot(\"7.gafgyt.combo.csv\")\n",
        "X_test2 = load_nbaiot(\"7.gafgyt.junk.csv\")\n",
        "X_test3 = load_nbaiot(\"7.gafgyt.scan.csv\")\n",
        "X_test4 = load_nbaiot(\"7.gafgyt.tcp.csv\")\n",
        "X_test5 = load_nbaiot(\"7.gafgyt.udp.csv\")"
      ]
    },
    {
      "cell_type": "code",
      "execution_count": null,
      "metadata": {
        "colab": {
          "base_uri": "https://localhost:8080/"
        },
        "id": "j5nreW3UXO2B",
        "outputId": "1ebc53cb-3b62-4554-eebd-ddfab821d86a"
      },
      "outputs": [
        {
          "name": "stdout",
          "output_type": "stream",
          "text": [
            "(50000, 115) (2150, 115) (58669, 115) (28305, 115) (27698, 115) (97783, 115) (110617, 115)\n"
          ]
        }
      ],
      "source": [
        "print(X_train.shape, X_test0.shape, X_test1.shape, X_test2.shape,\n",
        "      X_test3.shape, X_test4.shape, X_test5.shape)"
      ]
    },
    {
      "cell_type": "markdown",
      "metadata": {
        "id": "DSgat80vXTHL"
      },
      "source": [
        "### Training the autoencoder"
      ]
    },
    {
      "cell_type": "code",
      "execution_count": null,
      "metadata": {
        "colab": {
          "base_uri": "https://localhost:8080/"
        },
        "id": "6r1wgu5AXVqy",
        "outputId": "6919ec9d-d0ff-4f6a-8743-0f52d7a43d30"
      },
      "outputs": [
        {
          "name": "stdout",
          "output_type": "stream",
          "text": [
            "Epoch 1/800\n",
            "1094/1094 [==============================] - 7s 6ms/step - loss: 0.0030 - val_loss: 5.5601e-04\n",
            "Epoch 2/800\n",
            "1094/1094 [==============================] - 6s 5ms/step - loss: 0.0019 - val_loss: 0.0012\n",
            "Epoch 3/800\n",
            "1094/1094 [==============================] - 5s 5ms/step - loss: 0.0017 - val_loss: 6.0940e-04\n",
            "Epoch 4/800\n",
            "1094/1094 [==============================] - 6s 6ms/step - loss: 0.0012 - val_loss: 6.7967e-04\n",
            "Epoch 5/800\n",
            "1094/1094 [==============================] - 5s 4ms/step - loss: 0.0013 - val_loss: 5.9837e-04\n",
            "Epoch 6/800\n",
            "1094/1094 [==============================] - 5s 5ms/step - loss: 0.0014 - val_loss: 3.7756e-04\n",
            "Epoch 7/800\n",
            "1094/1094 [==============================] - 6s 6ms/step - loss: 0.0013 - val_loss: 3.8458e-04\n",
            "Epoch 8/800\n",
            "1094/1094 [==============================] - 5s 5ms/step - loss: 0.0012 - val_loss: 4.0895e-04\n",
            "Epoch 9/800\n",
            "1094/1094 [==============================] - 6s 5ms/step - loss: 0.0012 - val_loss: 5.0406e-04\n",
            "Epoch 10/800\n",
            "1094/1094 [==============================] - 6s 6ms/step - loss: 0.0014 - val_loss: 5.1918e-04\n",
            "Epoch 11/800\n",
            "1094/1094 [==============================] - 7s 6ms/step - loss: 0.0013 - val_loss: 4.3688e-04\n",
            "Epoch 11: early stopping\n"
          ]
        }
      ],
      "source": [
        "scaler = MinMaxScaler()\n",
        "x = scaler.fit_transform(X_train)\n",
        "\n",
        "ae = Autoencoder()\n",
        "ae.compile(optimizer=Adam(learning_rate=0.01), loss='mse')\n",
        "monitor = EarlyStopping(\n",
        "    monitor='val_loss',\n",
        "    min_delta=1e-9,\n",
        "    patience=5,\n",
        "    verbose=1,\n",
        "    mode='auto'\n",
        ")\n",
        "ae.fit(\n",
        "    x=x,\n",
        "    y=x,\n",
        "    epochs=800,\n",
        "    validation_split=0.3,\n",
        "    shuffle=True,\n",
        "    callbacks=[monitor]\n",
        ")\n",
        "\n",
        "training_loss = losses.mse(x, ae(x))\n",
        "threshold = np.mean(training_loss)+np.std(training_loss)"
      ]
    },
    {
      "cell_type": "markdown",
      "metadata": {
        "id": "fSCQD1A3XYca"
      },
      "source": [
        "### Testing the autoencoder"
      ]
    },
    {
      "cell_type": "code",
      "execution_count": null,
      "metadata": {
        "colab": {
          "base_uri": "https://localhost:8080/"
        },
        "id": "wFkg2AN2Xama",
        "outputId": "3a79ed21-4c7a-4048-b5da-0fe914c10537"
      },
      "outputs": [
        {
          "name": "stdout",
          "output_type": "stream",
          "text": [
            "0\n",
            "Shape of data: (2150, 115)\n",
            "Detected anomalies: 21.26631222812953%\n",
            "\n",
            "1\n",
            "Shape of data: (58669, 115)\n",
            "Detected anomalies: 100.0%\n",
            "\n",
            "2\n",
            "Shape of data: (28305, 115)\n",
            "Detected anomalies: 100.0%\n",
            "\n",
            "3\n",
            "Shape of data: (27698, 115)\n",
            "Detected anomalies: 100.0%\n",
            "\n",
            "4\n",
            "Shape of data: (97783, 115)\n",
            "Detected anomalies: 100.0%\n",
            "\n",
            "5\n",
            "Shape of data: (110617, 115)\n",
            "Detected anomalies: 100.0%\n",
            "\n"
          ]
        }
      ],
      "source": [
        "def predict(x, threshold=threshold, window_size=82):\n",
        "    x = scaler.transform(x)\n",
        "    predictions = losses.mse(x, ae(x)) > threshold\n",
        "    # Majority voting over `window_size` predictions\n",
        "    return np.array([np.mean(predictions[i-window_size:i]) > 0.5\n",
        "                     for i in range(window_size, len(predictions)+1)])\n",
        "\n",
        "test_data = [X_test0, X_test1, X_test2, X_test3, X_test4, X_test5]\n",
        "\n",
        "for i, x in enumerate(test_data):\n",
        "    print(i)\n",
        "    outcome = predict(x)\n",
        "    print_stats(x, outcome)"
      ]
    },
    {
      "cell_type": "markdown",
      "metadata": {
        "id": "0Kj6DEmZy0kS"
      },
      "source": [
        "## IOT Device 8: SimpleHome XCS7 1002 WHT Security Camera"
      ]
    },
    {
      "cell_type": "markdown",
      "metadata": {
        "id": "ZFKRUd6wzFn9"
      },
      "source": [
        "### Loading the dataset"
      ]
    },
    {
      "cell_type": "code",
      "execution_count": null,
      "metadata": {
        "id": "m9sqxCM-y4s-"
      },
      "outputs": [],
      "source": [
        "def load_nbaiot(filename):\n",
        "    return np.genfromtxt(\n",
        "        os.path.join(\"/drive/My Drive/Mini_Project_Dataset/N-Balot_Dataset\", filename),\n",
        "        delimiter=\",\",\n",
        "        skip_header=1\n",
        "    )\n",
        "\n",
        "benign = load_nbaiot(\"8.benign.csv\")\n",
        "X_train = benign[:40000]\n",
        "X_test0 = benign[40000:]\n",
        "X_test1 = load_nbaiot(\"8.mirai.scan.csv\")\n",
        "X_test2 = load_nbaiot(\"8.mirai.ack.csv\")\n",
        "X_test3 = load_nbaiot(\"8.mirai.syn.csv\")\n",
        "X_test4 = load_nbaiot(\"8.mirai.udp.csv\")\n",
        "X_test5 = load_nbaiot(\"8.mirai.udpplain.csv\")\n",
        "X_test6 = load_nbaiot(\"8.gafgyt.combo.csv\")\n",
        "X_test7 = load_nbaiot(\"8.gafgyt.junk.csv\")\n",
        "X_test8 = load_nbaiot(\"8.gafgyt.scan.csv\")\n",
        "X_test9 = load_nbaiot(\"8.gafgyt.tcp.csv\")\n",
        "X_test10 = load_nbaiot(\"8.gafgyt.udp.csv\")"
      ]
    },
    {
      "cell_type": "code",
      "execution_count": null,
      "metadata": {
        "colab": {
          "base_uri": "https://localhost:8080/"
        },
        "id": "ekQblw1xy8uV",
        "outputId": "1d71d606-a112-43cb-d49f-c2e5d7bc07b0"
      },
      "outputs": [
        {
          "name": "stdout",
          "output_type": "stream",
          "text": [
            "(40000, 115) (6585, 115) (45930, 115) (111480, 115) (125715, 115) (151879, 115) (78244, 115) (54283, 115) (28579, 115) (27825, 115) (88816, 115) (103720, 115)\n"
          ]
        }
      ],
      "source": [
        "print(X_train.shape, X_test0.shape, X_test1.shape, X_test2.shape,\n",
        "      X_test3.shape, X_test4.shape, X_test5.shape, X_test6.shape, \n",
        "      X_test7.shape, X_test8.shape, X_test9.shape, X_test10.shape)"
      ]
    },
    {
      "cell_type": "markdown",
      "metadata": {
        "id": "VPvdLhDTzNI2"
      },
      "source": [
        "### Training the autoencoder"
      ]
    },
    {
      "cell_type": "code",
      "execution_count": null,
      "metadata": {
        "colab": {
          "base_uri": "https://localhost:8080/"
        },
        "id": "seIZDGj7zQJr",
        "outputId": "c7cae526-ae85-499d-c83b-580794a7c46c"
      },
      "outputs": [
        {
          "name": "stdout",
          "output_type": "stream",
          "text": [
            "Epoch 1/800\n",
            "875/875 [==============================] - 3s 3ms/step - loss: 0.0026 - val_loss: 0.0021\n",
            "Epoch 2/800\n",
            "875/875 [==============================] - 3s 3ms/step - loss: 0.0014 - val_loss: 8.8752e-04\n",
            "Epoch 3/800\n",
            "875/875 [==============================] - 3s 3ms/step - loss: 0.0013 - val_loss: 0.0015\n",
            "Epoch 4/800\n",
            "875/875 [==============================] - 3s 3ms/step - loss: 0.0013 - val_loss: 0.0017\n",
            "Epoch 5/800\n",
            "875/875 [==============================] - 3s 3ms/step - loss: 0.0012 - val_loss: 0.0012\n",
            "Epoch 6/800\n",
            "875/875 [==============================] - 5s 6ms/step - loss: 0.0010 - val_loss: 0.0013\n",
            "Epoch 7/800\n",
            "875/875 [==============================] - 4s 4ms/step - loss: 0.0015 - val_loss: 0.0011\n",
            "Epoch 7: early stopping\n"
          ]
        }
      ],
      "source": [
        "scaler = MinMaxScaler()\n",
        "x = scaler.fit_transform(X_train)\n",
        "\n",
        "encoder = load_model(\"security_camera_model\");\n",
        "# ae = Autoencoder()\n",
        "# ae.compile(optimizer=Adam(learning_rate=0.01), loss='mse')\n",
        "monitor = EarlyStopping(\n",
        "    monitor='val_loss',\n",
        "    min_delta=1e-9,\n",
        "    patience=5,\n",
        "    verbose=1,\n",
        "    mode='auto'\n",
        ")\n",
        "encoder.fit(\n",
        "    x=x,\n",
        "    y=x,\n",
        "    epochs=800,\n",
        "    validation_split=0.3,\n",
        "    shuffle=True,\n",
        "    callbacks=[monitor]\n",
        ")\n",
        "\n",
        "training_loss = losses.mse(x, ae(x))\n",
        "threshold = np.mean(training_loss)+np.std(training_loss)"
      ]
    },
    {
      "cell_type": "markdown",
      "metadata": {
        "id": "JfANnREzzVDz"
      },
      "source": [
        "### Testing the autoencoder"
      ]
    },
    {
      "cell_type": "code",
      "execution_count": null,
      "metadata": {
        "colab": {
          "background_save": true,
          "base_uri": "https://localhost:8080/"
        },
        "id": "9X2ljkpezXGJ",
        "outputId": "d5746791-256e-406d-e642-38d670d1f771"
      },
      "outputs": [
        {
          "name": "stdout",
          "output_type": "stream",
          "text": [
            "0\n",
            "Shape of data: (6585, 115)\n",
            "Detected anomalies: 0.0%\n",
            "\n",
            "1\n",
            "Shape of data: (45930, 115)\n",
            "Detected anomalies: 97.62699295513534%\n",
            "\n",
            "2\n",
            "Shape of data: (111480, 115)\n",
            "Detected anomalies: 100.0%\n",
            "\n",
            "3\n",
            "Shape of data: (125715, 115)\n",
            "Detected anomalies: 100.0%\n",
            "\n",
            "4\n",
            "Shape of data: (151879, 115)\n",
            "Detected anomalies: 100.0%\n",
            "\n",
            "5\n",
            "Shape of data: (78244, 115)\n",
            "Detected anomalies: 100.0%\n",
            "\n",
            "6\n",
            "Shape of data: (54283, 115)\n",
            "Detected anomalies: 100.0%\n",
            "\n",
            "7\n",
            "Shape of data: (28579, 115)\n",
            "Detected anomalies: 100.0%\n",
            "\n",
            "8\n",
            "Shape of data: (27825, 115)\n",
            "Detected anomalies: 100.0%\n",
            "\n",
            "9\n",
            "Shape of data: (88816, 115)\n",
            "Detected anomalies: 0.0%\n",
            "\n",
            "10\n",
            "Shape of data: (103720, 115)\n",
            "Detected anomalies: 0.0%\n",
            "\n"
          ]
        }
      ],
      "source": [
        "\n",
        "def predict(x, threshold=threshold, window_size=82):\n",
        "    x = scaler.transform(x)\n",
        "    predictions = losses.mse(x, encoder(x)) > threshold\n",
        "    # Majority voting over `window_size` predictions\n",
        "    return np.array([np.mean(predictions[i-window_size:i]) > 0.5\n",
        "                     for i in range(window_size, len(predictions)+1)])\n",
        "\n",
        "test_data = [X_test0, X_test1, X_test2, X_test3, X_test4, X_test5, X_test6, X_test7, X_test8, X_test9, X_test10]\n",
        "\n",
        "for i, x in enumerate(test_data):\n",
        "    print(i)\n",
        "    outcome = predict(x)\n",
        "    print_stats(x, outcome)"
      ]
    },
    {
      "cell_type": "markdown",
      "metadata": {
        "id": "WIgBjHnL2207"
      },
      "source": [
        "## IOT Device 9: SimpleHome XCS7 1003 WHT Security Camera"
      ]
    },
    {
      "cell_type": "markdown",
      "metadata": {
        "id": "1wiAbCsz2-vs"
      },
      "source": [
        "### Loading the dataset"
      ]
    },
    {
      "cell_type": "code",
      "execution_count": null,
      "metadata": {
        "id": "rFcGCI2R3A_y"
      },
      "outputs": [],
      "source": [
        "def load_nbaiot(filename):\n",
        "    return np.genfromtxt(\n",
        "        os.path.join(\"/drive/My Drive/Mini_Project_Dataset/N-Balot_Dataset\", filename),\n",
        "        delimiter=\",\",\n",
        "        skip_header=1\n",
        "    )\n",
        "\n",
        "benign = load_nbaiot(\"9.benign.csv\")\n",
        "X_train = benign[:15000]\n",
        "X_test0 = benign[15000:]\n",
        "X_test1 = load_nbaiot(\"9.mirai.scan.csv\")\n",
        "X_test2 = load_nbaiot(\"9.mirai.ack.csv\")\n",
        "X_test3 = load_nbaiot(\"9.mirai.syn.csv\")\n",
        "X_test4 = load_nbaiot(\"9.mirai.udp.csv\")\n",
        "X_test5 = load_nbaiot(\"9.mirai.udpplain.csv\")\n",
        "X_test6 = load_nbaiot(\"9.gafgyt.combo.csv\")\n",
        "X_test7 = load_nbaiot(\"9.gafgyt.junk.csv\")\n",
        "X_test8 = load_nbaiot(\"9.gafgyt.scan.csv\")\n",
        "X_test9 = load_nbaiot(\"9.gafgyt.tcp.csv\")\n",
        "X_test10 = load_nbaiot(\"9.gafgyt.udp.csv\")"
      ]
    },
    {
      "cell_type": "code",
      "execution_count": null,
      "metadata": {
        "colab": {
          "base_uri": "https://localhost:8080/"
        },
        "id": "OxZYEMPd3Mjm",
        "outputId": "fc32273b-c0d1-4763-a842-f728933d5fea"
      },
      "outputs": [
        {
          "name": "stdout",
          "output_type": "stream",
          "text": [
            "(15000, 115) (4528, 115) (43674, 115) (107187, 115) (122479, 115) (157084, 115) (84436, 115) (59398, 115) (27413, 115) (28572, 115) (98075, 115) (102980, 115)\n"
          ]
        }
      ],
      "source": [
        "print(X_train.shape, X_test0.shape, X_test1.shape, X_test2.shape,\n",
        "      X_test3.shape, X_test4.shape, X_test5.shape, X_test6.shape, \n",
        "      X_test7.shape, X_test8.shape, X_test9.shape, X_test10.shape)"
      ]
    },
    {
      "cell_type": "markdown",
      "metadata": {
        "id": "tkGg3oNu3O9F"
      },
      "source": [
        "### Training the autoencoder"
      ]
    },
    {
      "cell_type": "code",
      "execution_count": null,
      "metadata": {
        "colab": {
          "base_uri": "https://localhost:8080/"
        },
        "id": "-35ObydG3SMc",
        "outputId": "fe20ba8e-8ef1-4e98-b58f-4aa05bec9071"
      },
      "outputs": [
        {
          "name": "stdout",
          "output_type": "stream",
          "text": [
            "Epoch 1/800\n",
            "329/329 [==============================] - 3s 5ms/step - loss: 0.0061 - val_loss: 0.0016\n",
            "Epoch 2/800\n",
            "329/329 [==============================] - 2s 5ms/step - loss: 0.0019 - val_loss: 0.0016\n",
            "Epoch 3/800\n",
            "329/329 [==============================] - 1s 4ms/step - loss: 0.0019 - val_loss: 0.0013\n",
            "Epoch 4/800\n",
            "329/329 [==============================] - 1s 4ms/step - loss: 0.0020 - val_loss: 0.0017\n",
            "Epoch 5/800\n",
            "329/329 [==============================] - 1s 4ms/step - loss: 0.0036 - val_loss: 0.0017\n",
            "Epoch 6/800\n",
            "329/329 [==============================] - 1s 4ms/step - loss: 0.0017 - val_loss: 0.0013\n",
            "Epoch 7/800\n",
            "329/329 [==============================] - 1s 4ms/step - loss: 0.0017 - val_loss: 0.0012\n",
            "Epoch 8/800\n",
            "329/329 [==============================] - 1s 4ms/step - loss: 0.0013 - val_loss: 8.8949e-04\n",
            "Epoch 9/800\n",
            "329/329 [==============================] - 1s 4ms/step - loss: 0.0020 - val_loss: 0.0015\n",
            "Epoch 10/800\n",
            "329/329 [==============================] - 1s 4ms/step - loss: 0.0016 - val_loss: 0.0021\n",
            "Epoch 11/800\n",
            "329/329 [==============================] - 1s 4ms/step - loss: 0.0015 - val_loss: 0.0012\n",
            "Epoch 12/800\n",
            "329/329 [==============================] - 1s 4ms/step - loss: 0.0012 - val_loss: 8.2622e-04\n",
            "Epoch 13/800\n",
            "329/329 [==============================] - 2s 5ms/step - loss: 0.0011 - val_loss: 9.1471e-04\n",
            "Epoch 14/800\n",
            "329/329 [==============================] - 2s 5ms/step - loss: 0.0012 - val_loss: 8.1920e-04\n",
            "Epoch 15/800\n",
            "329/329 [==============================] - 1s 4ms/step - loss: 0.0012 - val_loss: 0.0013\n",
            "Epoch 16/800\n",
            "329/329 [==============================] - 1s 4ms/step - loss: 0.0012 - val_loss: 8.0141e-04\n",
            "Epoch 17/800\n",
            "329/329 [==============================] - 1s 4ms/step - loss: 0.0012 - val_loss: 0.0010\n",
            "Epoch 18/800\n",
            "329/329 [==============================] - 1s 4ms/step - loss: 0.0016 - val_loss: 0.0012\n",
            "Epoch 19/800\n",
            "329/329 [==============================] - 1s 4ms/step - loss: 0.0015 - val_loss: 0.0011\n",
            "Epoch 20/800\n",
            "329/329 [==============================] - 1s 4ms/step - loss: 0.0012 - val_loss: 9.5946e-04\n",
            "Epoch 21/800\n",
            "329/329 [==============================] - 1s 4ms/step - loss: 0.0011 - val_loss: 9.7634e-04\n",
            "Epoch 21: early stopping\n"
          ]
        }
      ],
      "source": [
        "scaler = MinMaxScaler()\n",
        "x = scaler.fit_transform(X_train)\n",
        "\n",
        "ae = Autoencoder()\n",
        "ae.compile(optimizer=Adam(learning_rate=0.01), loss='mse')\n",
        "monitor = EarlyStopping(\n",
        "    monitor='val_loss',\n",
        "    min_delta=1e-9,\n",
        "    patience=5,\n",
        "    verbose=1,\n",
        "    mode='auto'\n",
        ")\n",
        "ae.fit(\n",
        "    x=x,\n",
        "    y=x,\n",
        "    epochs=800,\n",
        "    validation_split=0.3,\n",
        "    shuffle=True,\n",
        "    callbacks=[monitor]\n",
        ")\n",
        "\n",
        "training_loss = losses.mse(x, ae(x))\n",
        "threshold = np.mean(training_loss)+np.std(training_loss)"
      ]
    },
    {
      "cell_type": "markdown",
      "metadata": {
        "id": "qn_TInTf3U3D"
      },
      "source": [
        "### Testing the autoencoder"
      ]
    },
    {
      "cell_type": "code",
      "execution_count": null,
      "metadata": {
        "colab": {
          "base_uri": "https://localhost:8080/"
        },
        "id": "xoWZaHI03XLe",
        "outputId": "252f7e4a-9edb-4cf9-cfd0-9e0db8f76d01"
      },
      "outputs": [
        {
          "name": "stdout",
          "output_type": "stream",
          "text": [
            "0\n",
            "Shape of data: (4528, 115)\n",
            "Detected anomalies: 0.0%\n",
            "\n",
            "1\n",
            "Shape of data: (43674, 115)\n",
            "Detected anomalies: 100.0%\n",
            "\n",
            "2\n",
            "Shape of data: (107187, 115)\n",
            "Detected anomalies: 100.0%\n",
            "\n",
            "3\n",
            "Shape of data: (122479, 115)\n",
            "Detected anomalies: 100.0%\n",
            "\n",
            "4\n",
            "Shape of data: (157084, 115)\n",
            "Detected anomalies: 100.0%\n",
            "\n",
            "5\n",
            "Shape of data: (84436, 115)\n",
            "Detected anomalies: 100.0%\n",
            "\n",
            "6\n",
            "Shape of data: (59398, 115)\n",
            "Detected anomalies: 100.0%\n",
            "\n",
            "7\n",
            "Shape of data: (27413, 115)\n",
            "Detected anomalies: 100.0%\n",
            "\n",
            "8\n",
            "Shape of data: (28572, 115)\n",
            "Detected anomalies: 100.0%\n",
            "\n",
            "9\n",
            "Shape of data: (98075, 115)\n",
            "Detected anomalies: 0.0%\n",
            "\n",
            "10\n",
            "Shape of data: (102980, 115)\n",
            "Detected anomalies: 0.0%\n",
            "\n"
          ]
        }
      ],
      "source": [
        "def predict(x, threshold=threshold, window_size=82):\n",
        "    x = scaler.transform(x)\n",
        "    predictions = losses.mse(x, ae(x)) > threshold\n",
        "    # Majority voting over `window_size` predictions\n",
        "    return np.array([np.mean(predictions[i-window_size:i]) > 0.5\n",
        "                     for i in range(window_size, len(predictions)+1)])\n",
        "\n",
        "test_data = [X_test0, X_test1, X_test2, X_test3, X_test4, X_test5, X_test6, X_test7, X_test8, X_test9, X_test10]\n",
        "\n",
        "for i, x in enumerate(test_data):\n",
        "    print(i)\n",
        "    outcome = predict(x)\n",
        "    print_stats(x, outcome)"
      ]
    }
  ],
  "metadata": {
    "colab": {
      "collapsed_sections": [
        "-7NC0uniadRt",
        "zT7TJ8W9CcE2",
        "MM6kLb1NCmgK",
        "RuNUcVbkFJD_",
        "AUncEZC1HE37",
        "pLmOuDSFQ3hC",
        "81byjNSRTdBk",
        "gBOzHSlEW9SD",
        "0Kj6DEmZy0kS",
        "WIgBjHnL2207",
        "1wiAbCsz2-vs"
      ],
      "provenance": [],
      "toc_visible": true
    },
    "kernelspec": {
      "display_name": "Python 3",
      "name": "python3"
    },
    "language_info": {
      "name": "python"
    }
  },
  "nbformat": 4,
  "nbformat_minor": 0
}